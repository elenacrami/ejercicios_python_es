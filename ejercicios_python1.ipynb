{
 "cells": [
  {
   "cell_type": "markdown",
   "metadata": {},
   "source": [
    "#### **Ejercicios Python de \"Mi Diario Python\" - www.pythondiario.com**"
   ]
  },
  {
   "cell_type": "markdown",
   "metadata": {},
   "source": [
    "#### **PARTE 1**"
   ]
  },
  {
   "cell_type": "markdown",
   "metadata": {},
   "source": [
    "**1. Definir una función max() que tome como argumento dos números y devuelva el mayor de ellos.**"
   ]
  },
  {
   "cell_type": "code",
   "execution_count": 2,
   "metadata": {},
   "outputs": [
    {
     "name": "stdout",
     "output_type": "stream",
     "text": [
      "-98400\n"
     ]
    }
   ],
   "source": [
    "def funcion_max(n1,n2):\n",
    "    if n1 > n2:\n",
    "        return n1\n",
    "    else:\n",
    "        return n2\n",
    "\n",
    "print(funcion_max(-98400,-65730000))"
   ]
  },
  {
   "cell_type": "markdown",
   "metadata": {},
   "source": [
    "**2. Definir una función max_de_tres(), que tome tres números como argumentos y devuelva el mayor de ellos.**"
   ]
  },
  {
   "cell_type": "code",
   "execution_count": 2,
   "metadata": {},
   "outputs": [
    {
     "name": "stdout",
     "output_type": "stream",
     "text": [
      "10\n"
     ]
    }
   ],
   "source": [
    "def funcion_max_de_tres(n1,n2,n3):\n",
    "    if n1 > n2 and n1 > n3:\n",
    "        return n1\n",
    "    elif n2 > n1 and n2 > n3:\n",
    "        return n2\n",
    "    else:\n",
    "        return n3\n",
    "    \n",
    "print(funcion_max_de_tres(10,-1,2))"
   ]
  },
  {
   "cell_type": "markdown",
   "metadata": {},
   "source": [
    "**3. Definir una función que calcule la longitud de una lista o una cadena dada.**"
   ]
  },
  {
   "cell_type": "code",
   "execution_count": 36,
   "metadata": {},
   "outputs": [
    {
     "name": "stdout",
     "output_type": "stream",
     "text": [
      "4\n",
      "6\n"
     ]
    }
   ],
   "source": [
    "def funcion_longitud(lista):\n",
    "    cont = 0\n",
    "    for i in lista:\n",
    "        cont += 1\n",
    "    return cont\n",
    "    \n",
    "print(funcion_longitud(\"hola\"))\n",
    "print(funcion_longitud([2,7,6,8,9,8]))"
   ]
  },
  {
   "cell_type": "markdown",
   "metadata": {},
   "source": [
    "**4. Escribir una función que tome un carácter y devuelva True si es una vocal, de lo contrario devuelve False.**"
   ]
  },
  {
   "cell_type": "code",
   "execution_count": 5,
   "metadata": {},
   "outputs": [
    {
     "name": "stdout",
     "output_type": "stream",
     "text": [
      "True\n"
     ]
    }
   ],
   "source": [
    "def funcion_is_vocal(letra):\n",
    "    lista_vocales = ['a', 'e', 'i', 'o', 'u']\n",
    "    if letra in lista_vocales:\n",
    "        return True\n",
    "    else:\n",
    "        return False\n",
    "\n",
    "print(funcion_is_vocal('i'))"
   ]
  },
  {
   "cell_type": "markdown",
   "metadata": {},
   "source": [
    "**5. Escribir una función sum() y una función multip() que sumen y multipliquen respectivamente todos los números de una lista. <br> Ej.: sum([1,2,3,4]) debería devolver 10 y multip([1,2,3,4]) debería devolver 24.**"
   ]
  },
  {
   "cell_type": "code",
   "execution_count": 15,
   "metadata": {},
   "outputs": [
    {
     "name": "stdout",
     "output_type": "stream",
     "text": [
      "El resultado de la suma de los números en la lista [2, 4, -1] es 5\n"
     ]
    }
   ],
   "source": [
    "def funcion_sum(lista_suma):\n",
    "    result = 0\n",
    "    for n in lista_suma:\n",
    "        result = result + (n)\n",
    "    return result\n",
    "\n",
    "lista_suma = [2,4,-1]\n",
    "resultado_suma = funcion_sum(lista_suma)\n",
    "print(f\"El resultado de la suma de los números en la lista {lista_suma} es {resultado_suma}\")"
   ]
  },
  {
   "cell_type": "code",
   "execution_count": 14,
   "metadata": {},
   "outputs": [
    {
     "name": "stdout",
     "output_type": "stream",
     "text": [
      "El producto de los números en la lista [2, 4, -1] es -8\n"
     ]
    }
   ],
   "source": [
    "def funcion_multip(lista_multiplicacion):\n",
    "    producto = 1\n",
    "    for n in lista_multiplicacion:\n",
    "        producto *= n\n",
    "    return producto\n",
    "\n",
    "\n",
    "lista_multiplicacion = [2,4,-1]\n",
    "resultado_multiplicacion = funcion_multip(lista_multiplicacion)\n",
    "print(f\"El producto de los números en la lista {lista_multiplicacion} es {resultado_multiplicacion}\")"
   ]
  },
  {
   "cell_type": "markdown",
   "metadata": {},
   "source": [
    "**6. Definir una función inversa() que calcule la inversión de una cadena. <br> Ej.: la cadena \"estoy probando\" debería devolver la cadena \"odnaborp yotse\"**"
   ]
  },
  {
   "cell_type": "code",
   "execution_count": 17,
   "metadata": {},
   "outputs": [
    {
     "name": "stdout",
     "output_type": "stream",
     "text": [
      "Cadena original: el perro de san roque no tiene rabo\n",
      "Cadena invertida: obar eneit on euqor nas ed orrep le\n"
     ]
    }
   ],
   "source": [
    "def funcion_inversa(cadena):\n",
    "    # Invierto la cadena haciendo uso del \"slicing\"\n",
    "    # no especifico ni un inicio ni fin para abarcar toda la cadena, y con el -1 indico que vamos a recorrerla de derecha a izquierda.\n",
    "    cadena_invertida = cadena[::-1]\n",
    "    return cadena_invertida\n",
    "\n",
    "cadena_original = \"el perro de san roque no tiene rabo\"\n",
    "cadena_invertida = funcion_inversa(cadena_original)\n",
    "print(\"Cadena original:\", cadena_original)\n",
    "print(\"Cadena invertida:\", cadena_invertida)"
   ]
  },
  {
   "cell_type": "markdown",
   "metadata": {},
   "source": [
    "**7. Definir una función es_palindromo() que reconoce palíndromos (es decir, palabras que tienen el mismo aspecto escritas invertidas). <br> Ej: es_palindromo (\"radar\") tendría que devolver** True."
   ]
  },
  {
   "cell_type": "code",
   "execution_count": 18,
   "metadata": {},
   "outputs": [
    {
     "name": "stdout",
     "output_type": "stream",
     "text": [
      "True\n",
      "False\n",
      "True\n"
     ]
    }
   ],
   "source": [
    "def funcion_es_palindromo(cadena):\n",
    "    # Obtengo la versión invertida de la cadena usando la función_inversa.\n",
    "    cadena_invertida = funcion_inversa(cadena)\n",
    "    # Comparo la cadena original con la invertida.\n",
    "    return cadena == cadena_invertida\n",
    "\n",
    "print(funcion_es_palindromo(\"radar\"))  # True\n",
    "print(funcion_es_palindromo(\"python\"))  # False\n",
    "print(funcion_es_palindromo(\"reconocer\"))  # True"
   ]
  },
  {
   "cell_type": "markdown",
   "metadata": {},
   "source": [
    "**8. Definir una función superposicion() que tome dos listas y devuelva True si tienen al menos 1 miembro en común o devuelva False de lo contrario. <br>Escribir la función usando el bucle for anidado.**"
   ]
  },
  {
   "cell_type": "code",
   "execution_count": 30,
   "metadata": {},
   "outputs": [
    {
     "name": "stdout",
     "output_type": "stream",
     "text": [
      "True\n",
      "False\n"
     ]
    }
   ],
   "source": [
    "# Solucion ejemplo 1:\n",
    "def funcion_superposicion(lista1, lista2):\n",
    "    for elemento1 in lista1:\n",
    "        for elemento2 in lista2:\n",
    "            if elemento1 == elemento2:\n",
    "                return True\n",
    "    return False # Devuelve False si no encontró ninguna coincidencia.\n",
    "\n",
    "print(funcion_superposicion([1,2,3],[3,4,5]))\n",
    "print(funcion_superposicion([1,2,6],[3,4,5]))"
   ]
  },
  {
   "cell_type": "code",
   "execution_count": 28,
   "metadata": {},
   "outputs": [
    {
     "name": "stdout",
     "output_type": "stream",
     "text": [
      "True\n",
      "False\n"
     ]
    }
   ],
   "source": [
    "# Solucion ejemplo 2:\n",
    "def funcion_superposicion2(lista1, lista2):\n",
    "    for elemento in lista1:\n",
    "        if elemento in lista2:\n",
    "            return True\n",
    "    return False # Devuelve False si no encontró ninguna coincidencia.\n",
    "\n",
    "print(funcion_superposicion2([1,2,3],[3,4,5]))\n",
    "print(funcion_superposicion2([1,2,6],[3,4,5]))"
   ]
  },
  {
   "cell_type": "markdown",
   "metadata": {},
   "source": [
    "**9. Definir una función generar_n_caracteres() que tome un entero n y devuelva el caracter multiplicado por n. <br> Ej.: generar_n_caracteres(5, \"x\") debería devolver \"xxxxx\".**"
   ]
  },
  {
   "cell_type": "code",
   "execution_count": 38,
   "metadata": {},
   "outputs": [
    {
     "name": "stdout",
     "output_type": "stream",
     "text": [
      "sssss\n",
      "pp\n"
     ]
    }
   ],
   "source": [
    "def funcion_generar_n_caracteres(n,caracter):\n",
    "    operacion = n * caracter\n",
    "    return operacion\n",
    "\n",
    "print(funcion_generar_n_caracteres(5, \"s\"))\n",
    "print(funcion_generar_n_caracteres(2, \"p\"))"
   ]
  },
  {
   "cell_type": "markdown",
   "metadata": {},
   "source": [
    "**10. Definir un histograma procedimiento() que tome una lista de números enteros e imprima un histograma en la pantalla. <br> Ej.: procedimiento([4, 9, 7]) debería imprimir lo siguiente:**"
   ]
  },
  {
   "cell_type": "code",
   "execution_count": null,
   "metadata": {},
   "outputs": [],
   "source": [
    "# ****\n",
    "# *********\n",
    "# *******"
   ]
  },
  {
   "cell_type": "code",
   "execution_count": 40,
   "metadata": {},
   "outputs": [
    {
     "name": "stdout",
     "output_type": "stream",
     "text": [
      "** \n",
      "\n",
      "*** \n",
      "\n",
      "**** \n",
      "\n"
     ]
    }
   ],
   "source": [
    "def procedimiento(lista):\n",
    "    for n in lista:\n",
    "        histograma = '*' * n\n",
    "        print(f'{histograma} \\n')\n",
    "\n",
    "procedimiento([2,3,4])"
   ]
  }
 ],
 "metadata": {
  "kernelspec": {
   "display_name": "base",
   "language": "python",
   "name": "python3"
  },
  "language_info": {
   "codemirror_mode": {
    "name": "ipython",
    "version": 3
   },
   "file_extension": ".py",
   "mimetype": "text/x-python",
   "name": "python",
   "nbconvert_exporter": "python",
   "pygments_lexer": "ipython3",
   "version": "3.12.4"
  }
 },
 "nbformat": 4,
 "nbformat_minor": 2
}

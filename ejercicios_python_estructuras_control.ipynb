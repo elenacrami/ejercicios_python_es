{
 "cells": [
  {
   "cell_type": "markdown",
   "metadata": {},
   "source": [
    "_____\n",
    "\n",
    "### <center>**ESTRUCTURAS CONTROL**</center>\n",
    "_____\n",
    "\n",
    "1. Crea una variable que sea igual a \"Python\" y genera un código que nos printee todas las letras menos la \"P\" usando la sentencia `continue`.\n",
    "\n",
    "2. De la frase `'Hello'` imprime todas las letras que no sean una `'l'` usando `if`.\n",
    "\n",
    "3. Haz lo mismo que en 2 usando `continue`.\n",
    "\n",
    "4. De la frase `'Hello'` imprime todas las letras parando el bucle si encuentras una `'o'`.\n",
    "\n",
    "\n",
    "5. Define  la variable `doce = '12'` y `seis = 6`. Intenta sumarlos. En el caso de que te salga un error imprime `'¡Un error!'`. Para eso usa un `try` ... `except`\n",
    "\n",
    "6. Basándonos en el ejercicio anterior, sin usar un `try` ... `except`, ¿cómo podríamos solucionar el problema? \n",
    "\n",
    "7. Solicita al usuario ingresar números enteros positivos hasta que ingrese un número negativo. Luego, muestra la suma de todos los números pares ingresados.\n",
    "\n",
    "8. Solicita al usuario ingresar dos números y muestra el resultado de dividir el primero por el segundo. Asegúrate de manejar la excepción si el segundo número es cero.\n",
    "\n",
    "9. Solicita al usuario ingresar un número y muestra su raíz cuadrada. Maneja la excepción si el número es negativo.\n",
    "\n",
    "10. Crea una lista de números y solicita al usuario ingresar un índice para acceder a un elemento de la lista. Maneja la excepción si el índice está fuera de rango."
   ]
  }
 ],
 "metadata": {
  "language_info": {
   "name": "python"
  }
 },
 "nbformat": 4,
 "nbformat_minor": 2
}

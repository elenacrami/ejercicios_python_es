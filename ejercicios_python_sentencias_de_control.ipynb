{
 "cells": [
  {
   "cell_type": "markdown",
   "metadata": {},
   "source": [
    "_____\n",
    "\n",
    "### <center>**SENTENCIAS DE CONTROL**</center>\n",
    "_____"
   ]
  },
  {
   "cell_type": "markdown",
   "metadata": {},
   "source": [
    "1. Crea las siguientes variables:\n",
    "\n",
    "  - `var1` sea un número con el valor `8`.\n",
    "\n",
    "  - `var2` sea un número con el valor `2`.\n",
    "\n",
    "  - `var3` sea un número con el valor `8`."
   ]
  },
  {
   "cell_type": "code",
   "execution_count": null,
   "metadata": {
    "vscode": {
     "languageId": "plaintext"
    }
   },
   "outputs": [],
   "source": []
  },
  {
   "cell_type": "markdown",
   "metadata": {},
   "source": [
    "2. Comprueba si `var1` es mayor que 6, y si es así imprime `¡Es enorme!`."
   ]
  },
  {
   "cell_type": "code",
   "execution_count": null,
   "metadata": {
    "vscode": {
     "languageId": "plaintext"
    }
   },
   "outputs": [],
   "source": []
  },
  {
   "cell_type": "markdown",
   "metadata": {},
   "source": [
    "3. Comprueba si `var2` es mayor que 6, y si es así imprime `¡Es enorme también!`."
   ]
  },
  {
   "cell_type": "code",
   "execution_count": null,
   "metadata": {
    "vscode": {
     "languageId": "plaintext"
    }
   },
   "outputs": [],
   "source": []
  },
  {
   "cell_type": "markdown",
   "metadata": {},
   "source": [
    "4. Comprueba si `var3` es mayor que 6, y si es así imprime `¡Es enorme!` seguido por `¡Pero de verdad!` en otra línea (deberéis tener dos *print*)."
   ]
  },
  {
   "cell_type": "code",
   "execution_count": null,
   "metadata": {
    "vscode": {
     "languageId": "plaintext"
    }
   },
   "outputs": [],
   "source": []
  },
  {
   "cell_type": "markdown",
   "metadata": {},
   "source": [
    "5. Comprueba si `var1` es igual que `var3`, y si es así imprime `Son iguales.`."
   ]
  },
  {
   "cell_type": "code",
   "execution_count": null,
   "metadata": {
    "vscode": {
     "languageId": "plaintext"
    }
   },
   "outputs": [],
   "source": []
  },
  {
   "cell_type": "markdown",
   "metadata": {},
   "source": [
    "6. Comprueba si `var1` es igual que `var2`, y si es así imprime `Son iguales.`"
   ]
  },
  {
   "cell_type": "code",
   "execution_count": null,
   "metadata": {
    "vscode": {
     "languageId": "plaintext"
    }
   },
   "outputs": [],
   "source": []
  },
  {
   "cell_type": "markdown",
   "metadata": {},
   "source": [
    "7. Comprueba si `var1` es mayor o igual que `var2`, y si es así calcula la diferencia entre `var1` y `var2`, guardala en la variable `dif`, e imprime `'La diferencia es',dif`. "
   ]
  },
  {
   "cell_type": "code",
   "execution_count": null,
   "metadata": {
    "vscode": {
     "languageId": "plaintext"
    }
   },
   "outputs": [],
   "source": []
  },
  {
   "cell_type": "markdown",
   "metadata": {},
   "source": [
    "8. Comprueba si `var1` es mayor que 6, y si es así imprime `¡Es enorme!`. Si no es así imprime `Es chiquitín.`."
   ]
  },
  {
   "cell_type": "code",
   "execution_count": null,
   "metadata": {
    "vscode": {
     "languageId": "plaintext"
    }
   },
   "outputs": [],
   "source": []
  },
  {
   "cell_type": "markdown",
   "metadata": {},
   "source": [
    "9. Comprueba si `var2` es mayor que 6, y si es así imprime `¡Es enorme también!`. Si no es así imprime `Es chiquitín también.`."
   ]
  },
  {
   "cell_type": "code",
   "execution_count": null,
   "metadata": {
    "vscode": {
     "languageId": "plaintext"
    }
   },
   "outputs": [],
   "source": []
  },
  {
   "cell_type": "markdown",
   "metadata": {},
   "source": [
    "10. Comprueba si `var1` es igual a `var3`, y si es así imprime `Son iguales.` Si no es así imprime `Son distintos.`"
   ]
  },
  {
   "cell_type": "code",
   "execution_count": null,
   "metadata": {
    "vscode": {
     "languageId": "plaintext"
    }
   },
   "outputs": [],
   "source": []
  },
  {
   "cell_type": "markdown",
   "metadata": {},
   "source": [
    "11. Escribe un programa para una empresa que tiene salas de juegos para todas las edades y quiere calcular de forma automática el precio que debe cobrar a sus clientes por entrar. El programa debe preguntar al usuario:\n",
    "\n",
    "    - La edad del cliente. \n",
    "    - Las condiciones que tendremos que chequear: \n",
    "\n",
    "      - Si el cliente es menor de 4 años puede entrar gratis, \n",
    "\n",
    "      - Si tiene entre 4 y 18 años debe pagar 5€ y \n",
    "\n",
    "      - Si es mayor de 18 años, 10€."
   ]
  },
  {
   "cell_type": "code",
   "execution_count": null,
   "metadata": {
    "vscode": {
     "languageId": "plaintext"
    }
   },
   "outputs": [],
   "source": []
  },
  {
   "cell_type": "markdown",
   "metadata": {},
   "source": [
    "12. Inicia la varible `ahorros` con un valor de `5`. Crea un bucle while que mientras los ahorros sean igual o menor que `20` imprima por pantalla la cantidad de ahorros que tenemos, y añádele `5` más. Cuando la variable ahorros supere el valor de 20 el bucle deberá parar. "
   ]
  },
  {
   "cell_type": "code",
   "execution_count": null,
   "metadata": {
    "vscode": {
     "languageId": "plaintext"
    }
   },
   "outputs": [],
   "source": []
  },
  {
   "cell_type": "markdown",
   "metadata": {},
   "source": [
    "13. Escribe un programa que convierta grados Celsius a grados Fahrenheit o viceversa, según la elección del usuario. Para eso tendrás que preguntar: \n",
    "\n",
    "  - Desde que unidades va a convertir la temperatura, Celsius o Fahrenheit. \n",
    "\n",
    "  - Cuál es valor de la temperatura que quiere convertir. "
   ]
  },
  {
   "cell_type": "code",
   "execution_count": null,
   "metadata": {
    "vscode": {
     "languageId": "plaintext"
    }
   },
   "outputs": [],
   "source": []
  },
  {
   "cell_type": "markdown",
   "metadata": {},
   "source": [
    "14.  Crea un programa que calcule el impuesto sobre la renta de una persona basado en su ingreso anual y su estado civil (soltero o casado). Para eso deberás: \n",
    "\n",
    "  - Solicitar al usuario su ingreso anual.\n",
    "\n",
    "  - Preguntar al usuario su estado civil, permitiendo dos opciones: \"soltero\" (S) o \"casado\" (C).\n",
    "\n",
    "  - Calcular el impuesto sobre la renta utilizando las siguientes reglas:\n",
    "\n",
    "    - Si el estado civil es \"soltero\" (S):\n",
    "\n",
    "      - Si el ingreso anual es menor o igual a $9,875, el impuesto es el 10% del ingreso anual.\n",
    "\n",
    "      - Si el ingreso anual está entre $9,876 y $40,125, el impuesto es el 10% de los primeros $9,875 más el 12% de la cantidad que excede los $9,875.\n",
    "     \n",
    "\n",
    "    - Si el estado civil es \"casado\" (C):\n",
    "    \n",
    "      - Si el ingreso anual es menor o igual a $19,850, el impuesto es el 10% del ingreso anual.\n",
    "\n",
    "      - Si el ingreso anual está entre $19,851 y $80,250, el impuesto es el 10% de los primeros $19,850 más el 12% de la cantidad que excede los $19,850."
   ]
  },
  {
   "cell_type": "code",
   "execution_count": null,
   "metadata": {
    "vscode": {
     "languageId": "plaintext"
    }
   },
   "outputs": [],
   "source": []
  },
  {
   "cell_type": "markdown",
   "metadata": {},
   "source": [
    "15. Crea un programa que evalúe el nivel de contaminación del aire en función de la concentración de partículas en suspensión (PM2.5) en microgramos por metro cúbico (µg/m³). Para eso deberás: \n",
    "\n",
    "  - Solicita al usuario que ingrese la concentración de PM2.5 en el aire en µg/m³. El usuario debe ingresar un valor numérico.\n",
    "\n",
    "  - Evalua el nivel de contaminación del aire según la siguiente escala:\n",
    "\n",
    "    - Si la concentración de PM2.5 es menor o igual a 12 µg/m³, el aire se considera \"Excelente\".\n",
    "\n",
    "    - Si la concentración de PM2.5 está entre 13 µg/m³ y 35 µg/m³, el aire se considera \"Bueno\".\n",
    "\n",
    "    - Si la concentración de PM2.5 está entre 36 µg/m³ y 55 µg/m³, el aire se considera \"Aceptable\".\n",
    "\n",
    "    - Si la concentración de PM2.5 está entre 56 µg/m³ y 150 µg/m³, el aire se considera \"No Saludable para Grupos Sensibles\".\n",
    "\n",
    "    - Si la concentración de PM2.5 es mayor a 150 µg/m³, el aire se considera \"No Saludable\".\n",
    "\n",
    "  - Muestra un mensaje indicando el estado de la calidad del aire. Por ejemplo, si la concentración de PM2.5 es 25 µg/m³, el programa debe mostrar: \"La calidad del aire es Buena\".\n",
    "\n",
    "  -  Además, si la concentración de PM2.5 está en la categoría \"No Saludable para Grupos Sensibles\" o \"No Saludable\", el programa debe advertir al usuario sobre los posibles efectos en la salud.\n",
    "\n",
    "  - Si la concentración ingresada por el usuario es negativa o no es un número válido, el programa debe mostrar un mensaje de error."
   ]
  },
  {
   "cell_type": "code",
   "execution_count": null,
   "metadata": {
    "vscode": {
     "languageId": "plaintext"
    }
   },
   "outputs": [],
   "source": []
  }
 ],
 "metadata": {
  "language_info": {
   "name": "python"
  }
 },
 "nbformat": 4,
 "nbformat_minor": 2
}
